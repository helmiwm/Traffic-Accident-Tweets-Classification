{
 "cells": [
  {
   "cell_type": "code",
   "execution_count": 3,
   "metadata": {},
   "outputs": [],
   "source": [
    "import pandas as pd\n",
    "import numpy as np\n",
    "import matplotlib.pyplot as plt\n",
    "import seaborn as sns\n",
    "\n",
    "# might be needed depending on your version of Jupyter\n",
    "%matplotlib inline"
   ]
  },
  {
   "cell_type": "code",
   "execution_count": 4,
   "metadata": {},
   "outputs": [],
   "source": []
  },
  {
   "cell_type": "code",
   "execution_count": null,
   "metadata": {},
   "outputs": [],
   "source": []
  },
  {
   "cell_type": "code",
   "execution_count": null,
   "metadata": {},
   "outputs": [],
   "source": []
  },
  {
   "cell_type": "code",
   "execution_count": 9,
   "metadata": {},
   "outputs": [],
   "source": [
    "import datetime"
   ]
  },
  {
   "cell_type": "code",
   "execution_count": 13,
   "metadata": {},
   "outputs": [],
   "source": []
  },
  {
   "cell_type": "code",
   "execution_count": null,
   "metadata": {},
   "outputs": [],
   "source": []
  },
  {
   "cell_type": "code",
   "execution_count": null,
   "metadata": {},
   "outputs": [],
   "source": []
  },
  {
   "cell_type": "code",
   "execution_count": 16,
   "metadata": {},
   "outputs": [],
   "source": []
  },
  {
   "cell_type": "code",
   "execution_count": null,
   "metadata": {},
   "outputs": [],
   "source": []
  },
  {
   "cell_type": "code",
   "execution_count": 18,
   "metadata": {},
   "outputs": [],
   "source": []
  },
  {
   "cell_type": "code",
   "execution_count": null,
   "metadata": {},
   "outputs": [],
   "source": []
  },
  {
   "cell_type": "code",
   "execution_count": 21,
   "metadata": {},
   "outputs": [],
   "source": []
  },
  {
   "cell_type": "code",
   "execution_count": null,
   "metadata": {},
   "outputs": [],
   "source": []
  },
  {
   "cell_type": "code",
   "execution_count": 33,
   "metadata": {},
   "outputs": [],
   "source": []
  },
  {
   "cell_type": "code",
   "execution_count": 36,
   "metadata": {},
   "outputs": [],
   "source": []
  },
  {
   "cell_type": "code",
   "execution_count": 37,
   "metadata": {},
   "outputs": [],
   "source": []
  },
  {
   "cell_type": "code",
   "execution_count": 39,
   "metadata": {},
   "outputs": [],
   "source": []
  },
  {
   "cell_type": "code",
   "execution_count": null,
   "metadata": {},
   "outputs": [],
   "source": []
  },
  {
   "cell_type": "code",
   "execution_count": 43,
   "metadata": {},
   "outputs": [],
   "source": []
  },
  {
   "cell_type": "code",
   "execution_count": null,
   "metadata": {},
   "outputs": [],
   "source": []
  },
  {
   "cell_type": "code",
   "execution_count": 46,
   "metadata": {},
   "outputs": [],
   "source": []
  },
  {
   "cell_type": "code",
   "execution_count": null,
   "metadata": {},
   "outputs": [],
   "source": []
  },
  {
   "cell_type": "code",
   "execution_count": 51,
   "metadata": {},
   "outputs": [
    {
     "data": {
      "text/plain": [
       "<matplotlib.axes._subplots.AxesSubplot at 0x23d1da6a188>"
      ]
     },
     "execution_count": 51,
     "metadata": {},
     "output_type": "execute_result"
    },
    {
     "data": {
      "image/png": "[encoded data removed]",
      "text/plain": [
       "<Figure size 864x432 with 1 Axes>"
      ]
     },
     "metadata": {
      "needs_background": "light"
     },
     "output_type": "display_data"
    }
   ],
   "source": []
  },
  {
   "cell_type": "code",
   "execution_count": null,
   "metadata": {},
   "outputs": [],
   "source": []
  },
  {
   "cell_type": "code",
   "execution_count": 53,
   "metadata": {},
   "outputs": [],
   "source": []
  },
  {
   "cell_type": "code",
   "execution_count": null,
   "metadata": {},
   "outputs": [],
   "source": []
  },
  {
   "cell_type": "code",
   "execution_count": 55,
   "metadata": {},
   "outputs": [],
   "source": []
  },
  {
   "cell_type": "code",
   "execution_count": null,
   "metadata": {},
   "outputs": [],
   "source": []
  },
  {
   "cell_type": "code",
   "execution_count": 51,
   "metadata": {},
   "outputs": [],
   "source": [
    "df_label_manual=pd.read_csv('DATA/twitter_label_manual.csv')"
   ]
  },
  {
   "cell_type": "code",
   "execution_count": 52,
   "metadata": {},
   "outputs": [
    {
     "data": {
      "text/html": [
       "<div>\n",
       "<style scoped>\n",
       "    .dataframe tbody tr th:only-of-type {\n",
       "        vertical-align: middle;\n",
       "    }\n",
       "\n",
       "    .dataframe tbody tr th {\n",
       "        vertical-align: top;\n",
       "    }\n",
       "\n",
       "    .dataframe thead th {\n",
       "        text-align: right;\n",
       "    }\n",
       "</style>\n",
       "<table border=\"1\" class=\"dataframe\">\n",
       "  <thead>\n",
       "    <tr style=\"text-align: right;\">\n",
       "      <th></th>\n",
       "      <th>id_str</th>\n",
       "      <th>created_at</th>\n",
       "      <th>crawled_at</th>\n",
       "      <th>screen_name</th>\n",
       "      <th>is_accident</th>\n",
       "      <th>full_text</th>\n",
       "    </tr>\n",
       "  </thead>\n",
       "  <tbody>\n",
       "    <tr>\n",
       "      <th>0</th>\n",
       "      <td>1113976371515146240</td>\n",
       "      <td>2019-04-05 08:27:18</td>\n",
       "      <td>2020-02-08 12:30:29</td>\n",
       "      <td>mrahmatr7</td>\n",
       "      <td>1</td>\n",
       "      <td>Rekaman CCTV Kecelakaan Motor di PIK, depan Ta...</td>\n",
       "    </tr>\n",
       "    <tr>\n",
       "      <th>1</th>\n",
       "      <td>1114010329313206272</td>\n",
       "      <td>2019-04-05 10:42:14</td>\n",
       "      <td>2020-02-08 12:30:43</td>\n",
       "      <td>PanritaNews</td>\n",
       "      <td>1</td>\n",
       "      <td>Tewaskan 346 Orang dalam 2 Kecelakaan, Boss Bo...</td>\n",
       "    </tr>\n",
       "    <tr>\n",
       "      <th>2</th>\n",
       "      <td>1114037478237855745</td>\n",
       "      <td>2019-04-05 12:30:07</td>\n",
       "      <td>2020-02-08 12:30:56</td>\n",
       "      <td>VICE_ID</td>\n",
       "      <td>0</td>\n",
       "      <td>Anggota parlemen Taiwan juga berencana meningk...</td>\n",
       "    </tr>\n",
       "    <tr>\n",
       "      <th>3</th>\n",
       "      <td>1114121169873932288</td>\n",
       "      <td>2019-04-05 18:02:40</td>\n",
       "      <td>2020-02-08 12:31:38</td>\n",
       "      <td>OfficialSyariah</td>\n",
       "      <td>0</td>\n",
       "      <td>C.Gerakan.bicara pertolongan pertama pada kece...</td>\n",
       "    </tr>\n",
       "    <tr>\n",
       "      <th>4</th>\n",
       "      <td>1114149728323682305</td>\n",
       "      <td>2019-04-05 19:56:09</td>\n",
       "      <td>2020-02-08 12:31:54</td>\n",
       "      <td>AhliAsuransi</td>\n",
       "      <td>0</td>\n",
       "      <td>Asuransi mana nih??\\n\\nhttps://t.co/AJyABmimcY...</td>\n",
       "    </tr>\n",
       "    <tr>\n",
       "      <th>...</th>\n",
       "      <td>...</td>\n",
       "      <td>...</td>\n",
       "      <td>...</td>\n",
       "      <td>...</td>\n",
       "      <td>...</td>\n",
       "      <td>...</td>\n",
       "    </tr>\n",
       "    <tr>\n",
       "      <th>997</th>\n",
       "      <td>1241648950509047808</td>\n",
       "      <td>2020-03-22 15:52:33</td>\n",
       "      <td>2020-03-22 16:00:09</td>\n",
       "      <td>akun_b1j4k</td>\n",
       "      <td>0</td>\n",
       "      <td>\"Jatuh cinta itu adalah sebuah kecelakaan yang...</td>\n",
       "    </tr>\n",
       "    <tr>\n",
       "      <th>998</th>\n",
       "      <td>1241721566016073728</td>\n",
       "      <td>2020-03-22 20:41:06</td>\n",
       "      <td>2020-03-22 20:45:09</td>\n",
       "      <td>officialFilza24</td>\n",
       "      <td>0</td>\n",
       "      <td>Pesan nasi goreng depan lapaknya ada kecelakaa...</td>\n",
       "    </tr>\n",
       "    <tr>\n",
       "      <th>999</th>\n",
       "      <td>1242306574887968768</td>\n",
       "      <td>2020-03-24 11:25:43</td>\n",
       "      <td>2020-03-24 11:30:10</td>\n",
       "      <td>sekitarbandung_</td>\n",
       "      <td>1</td>\n",
       "      <td>Hati-hati, Lalin di Tol Purbaleunyi Baros KM 1...</td>\n",
       "    </tr>\n",
       "    <tr>\n",
       "      <th>1000</th>\n",
       "      <td>1242347427262128128</td>\n",
       "      <td>2020-03-24 14:08:03</td>\n",
       "      <td>2020-03-24 14:15:08</td>\n",
       "      <td>ainaizt15</td>\n",
       "      <td>0</td>\n",
       "      <td>korang ada any idea tak macam mana nak bina sa...</td>\n",
       "    </tr>\n",
       "    <tr>\n",
       "      <th>1001</th>\n",
       "      <td>1242752743271321602</td>\n",
       "      <td>2020-03-25 16:58:37</td>\n",
       "      <td>2020-03-25 17:00:08</td>\n",
       "      <td>Sucinurr_</td>\n",
       "      <td>0</td>\n",
       "      <td>\"klo takdirnya mati karna corona ya udh lah ma...</td>\n",
       "    </tr>\n",
       "  </tbody>\n",
       "</table>\n",
       "<p>1002 rows × 6 columns</p>\n",
       "</div>"
      ],
      "text/plain": [
       "                   id_str           created_at           crawled_at  \\\n",
       "0     1113976371515146240  2019-04-05 08:27:18  2020-02-08 12:30:29   \n",
       "1     1114010329313206272  2019-04-05 10:42:14  2020-02-08 12:30:43   \n",
       "2     1114037478237855745  2019-04-05 12:30:07  2020-02-08 12:30:56   \n",
       "3     1114121169873932288  2019-04-05 18:02:40  2020-02-08 12:31:38   \n",
       "4     1114149728323682305  2019-04-05 19:56:09  2020-02-08 12:31:54   \n",
       "...                   ...                  ...                  ...   \n",
       "997   1241648950509047808  2020-03-22 15:52:33  2020-03-22 16:00:09   \n",
       "998   1241721566016073728  2020-03-22 20:41:06  2020-03-22 20:45:09   \n",
       "999   1242306574887968768  2020-03-24 11:25:43  2020-03-24 11:30:10   \n",
       "1000  1242347427262128128  2020-03-24 14:08:03  2020-03-24 14:15:08   \n",
       "1001  1242752743271321602  2020-03-25 16:58:37  2020-03-25 17:00:08   \n",
       "\n",
       "          screen_name  is_accident  \\\n",
       "0           mrahmatr7            1   \n",
       "1         PanritaNews            1   \n",
       "2             VICE_ID            0   \n",
       "3     OfficialSyariah            0   \n",
       "4        AhliAsuransi            0   \n",
       "...               ...          ...   \n",
       "997        akun_b1j4k            0   \n",
       "998   officialFilza24            0   \n",
       "999   sekitarbandung_            1   \n",
       "1000        ainaizt15            0   \n",
       "1001        Sucinurr_            0   \n",
       "\n",
       "                                              full_text  \n",
       "0     Rekaman CCTV Kecelakaan Motor di PIK, depan Ta...  \n",
       "1     Tewaskan 346 Orang dalam 2 Kecelakaan, Boss Bo...  \n",
       "2     Anggota parlemen Taiwan juga berencana meningk...  \n",
       "3     C.Gerakan.bicara pertolongan pertama pada kece...  \n",
       "4     Asuransi mana nih??\\n\\nhttps://t.co/AJyABmimcY...  \n",
       "...                                                 ...  \n",
       "997   \"Jatuh cinta itu adalah sebuah kecelakaan yang...  \n",
       "998   Pesan nasi goreng depan lapaknya ada kecelakaa...  \n",
       "999   Hati-hati, Lalin di Tol Purbaleunyi Baros KM 1...  \n",
       "1000  korang ada any idea tak macam mana nak bina sa...  \n",
       "1001  \"klo takdirnya mati karna corona ya udh lah ma...  \n",
       "\n",
       "[1002 rows x 6 columns]"
      ]
     },
     "execution_count": 52,
     "metadata": {},
     "output_type": "execute_result"
    }
   ],
   "source": [
    "df_label_manual"
   ]
  },
  {
   "cell_type": "code",
   "execution_count": 53,
   "metadata": {},
   "outputs": [],
   "source": [
    "df_label_manual = df_label_manual.drop(['id_str','crawled_at'],axis=1)"
   ]
  },
  {
   "cell_type": "code",
   "execution_count": 54,
   "metadata": {},
   "outputs": [
    {
     "data": {
      "text/html": [
       "<div>\n",
       "<style scoped>\n",
       "    .dataframe tbody tr th:only-of-type {\n",
       "        vertical-align: middle;\n",
       "    }\n",
       "\n",
       "    .dataframe tbody tr th {\n",
       "        vertical-align: top;\n",
       "    }\n",
       "\n",
       "    .dataframe thead th {\n",
       "        text-align: right;\n",
       "    }\n",
       "</style>\n",
       "<table border=\"1\" class=\"dataframe\">\n",
       "  <thead>\n",
       "    <tr style=\"text-align: right;\">\n",
       "      <th></th>\n",
       "      <th>created_at</th>\n",
       "      <th>screen_name</th>\n",
       "      <th>is_accident</th>\n",
       "      <th>full_text</th>\n",
       "    </tr>\n",
       "  </thead>\n",
       "  <tbody>\n",
       "    <tr>\n",
       "      <th>0</th>\n",
       "      <td>2019-04-05 08:27:18</td>\n",
       "      <td>mrahmatr7</td>\n",
       "      <td>1</td>\n",
       "      <td>Rekaman CCTV Kecelakaan Motor di PIK, depan Ta...</td>\n",
       "    </tr>\n",
       "    <tr>\n",
       "      <th>1</th>\n",
       "      <td>2019-04-05 10:42:14</td>\n",
       "      <td>PanritaNews</td>\n",
       "      <td>1</td>\n",
       "      <td>Tewaskan 346 Orang dalam 2 Kecelakaan, Boss Bo...</td>\n",
       "    </tr>\n",
       "    <tr>\n",
       "      <th>2</th>\n",
       "      <td>2019-04-05 12:30:07</td>\n",
       "      <td>VICE_ID</td>\n",
       "      <td>0</td>\n",
       "      <td>Anggota parlemen Taiwan juga berencana meningk...</td>\n",
       "    </tr>\n",
       "    <tr>\n",
       "      <th>3</th>\n",
       "      <td>2019-04-05 18:02:40</td>\n",
       "      <td>OfficialSyariah</td>\n",
       "      <td>0</td>\n",
       "      <td>C.Gerakan.bicara pertolongan pertama pada kece...</td>\n",
       "    </tr>\n",
       "    <tr>\n",
       "      <th>4</th>\n",
       "      <td>2019-04-05 19:56:09</td>\n",
       "      <td>AhliAsuransi</td>\n",
       "      <td>0</td>\n",
       "      <td>Asuransi mana nih??\\n\\nhttps://t.co/AJyABmimcY...</td>\n",
       "    </tr>\n",
       "    <tr>\n",
       "      <th>...</th>\n",
       "      <td>...</td>\n",
       "      <td>...</td>\n",
       "      <td>...</td>\n",
       "      <td>...</td>\n",
       "    </tr>\n",
       "    <tr>\n",
       "      <th>997</th>\n",
       "      <td>2020-03-22 15:52:33</td>\n",
       "      <td>akun_b1j4k</td>\n",
       "      <td>0</td>\n",
       "      <td>\"Jatuh cinta itu adalah sebuah kecelakaan yang...</td>\n",
       "    </tr>\n",
       "    <tr>\n",
       "      <th>998</th>\n",
       "      <td>2020-03-22 20:41:06</td>\n",
       "      <td>officialFilza24</td>\n",
       "      <td>0</td>\n",
       "      <td>Pesan nasi goreng depan lapaknya ada kecelakaa...</td>\n",
       "    </tr>\n",
       "    <tr>\n",
       "      <th>999</th>\n",
       "      <td>2020-03-24 11:25:43</td>\n",
       "      <td>sekitarbandung_</td>\n",
       "      <td>1</td>\n",
       "      <td>Hati-hati, Lalin di Tol Purbaleunyi Baros KM 1...</td>\n",
       "    </tr>\n",
       "    <tr>\n",
       "      <th>1000</th>\n",
       "      <td>2020-03-24 14:08:03</td>\n",
       "      <td>ainaizt15</td>\n",
       "      <td>0</td>\n",
       "      <td>korang ada any idea tak macam mana nak bina sa...</td>\n",
       "    </tr>\n",
       "    <tr>\n",
       "      <th>1001</th>\n",
       "      <td>2020-03-25 16:58:37</td>\n",
       "      <td>Sucinurr_</td>\n",
       "      <td>0</td>\n",
       "      <td>\"klo takdirnya mati karna corona ya udh lah ma...</td>\n",
       "    </tr>\n",
       "  </tbody>\n",
       "</table>\n",
       "<p>1002 rows × 4 columns</p>\n",
       "</div>"
      ],
      "text/plain": [
       "               created_at      screen_name  is_accident  \\\n",
       "0     2019-04-05 08:27:18        mrahmatr7            1   \n",
       "1     2019-04-05 10:42:14      PanritaNews            1   \n",
       "2     2019-04-05 12:30:07          VICE_ID            0   \n",
       "3     2019-04-05 18:02:40  OfficialSyariah            0   \n",
       "4     2019-04-05 19:56:09     AhliAsuransi            0   \n",
       "...                   ...              ...          ...   \n",
       "997   2020-03-22 15:52:33       akun_b1j4k            0   \n",
       "998   2020-03-22 20:41:06  officialFilza24            0   \n",
       "999   2020-03-24 11:25:43  sekitarbandung_            1   \n",
       "1000  2020-03-24 14:08:03        ainaizt15            0   \n",
       "1001  2020-03-25 16:58:37        Sucinurr_            0   \n",
       "\n",
       "                                              full_text  \n",
       "0     Rekaman CCTV Kecelakaan Motor di PIK, depan Ta...  \n",
       "1     Tewaskan 346 Orang dalam 2 Kecelakaan, Boss Bo...  \n",
       "2     Anggota parlemen Taiwan juga berencana meningk...  \n",
       "3     C.Gerakan.bicara pertolongan pertama pada kece...  \n",
       "4     Asuransi mana nih??\\n\\nhttps://t.co/AJyABmimcY...  \n",
       "...                                                 ...  \n",
       "997   \"Jatuh cinta itu adalah sebuah kecelakaan yang...  \n",
       "998   Pesan nasi goreng depan lapaknya ada kecelakaa...  \n",
       "999   Hati-hati, Lalin di Tol Purbaleunyi Baros KM 1...  \n",
       "1000  korang ada any idea tak macam mana nak bina sa...  \n",
       "1001  \"klo takdirnya mati karna corona ya udh lah ma...  \n",
       "\n",
       "[1002 rows x 4 columns]"
      ]
     },
     "execution_count": 54,
     "metadata": {},
     "output_type": "execute_result"
    }
   ],
   "source": [
    "df_label_manual"
   ]
  },
  {
   "cell_type": "code",
   "execution_count": 55,
   "metadata": {},
   "outputs": [
    {
     "data": {
      "text/plain": [
       "0       Rekaman CCTV Kecelakaan Motor di PIK, depan Ta...\n",
       "1       Tewaskan 346 Orang dalam 2 Kecelakaan, Boss Bo...\n",
       "2       Anggota parlemen Taiwan juga berencana meningk...\n",
       "3       C.Gerakan.bicara pertolongan pertama pada kece...\n",
       "4       Asuransi mana nih??\\n\\nPPATK tidak memberikan ...\n",
       "                              ...                        \n",
       "997     \"Jatuh cinta itu adalah sebuah kecelakaan yang...\n",
       "998     Pesan nasi goreng depan lapaknya ada kecelakaa...\n",
       "999     Hati-hati, Lalin di Tol Purbaleunyi Baros KM 1...\n",
       "1000    korang ada any idea tak macam mana nak bina sa...\n",
       "1001    \"klo takdirnya mati karna corona ya udh lah ma...\n",
       "Name: processed_text, Length: 1002, dtype: object"
      ]
     },
     "execution_count": 55,
     "metadata": {},
     "output_type": "execute_result"
    }
   ],
   "source": [
    "#remove url from full_text\n",
    "import re\n",
    "df_label_manual['processed_text'] = df_label_manual['full_text'].apply(lambda text: re.sub(r'^https?:\\/\\/.*[\\r\\n]*', '', text, flags=re.MULTILINE))\n",
    "df_label_manual['processed_text']"
   ]
  },
  {
   "cell_type": "code",
   "execution_count": 56,
   "metadata": {},
   "outputs": [
    {
     "data": {
      "text/plain": [
       "0       Rekaman CCTV Kecelakaan Motor di PIK, depan Ta...\n",
       "1       Tewaskan  Orang dalam  Kecelakaan, Boss Boeing...\n",
       "2       Anggota parlemen Taiwan juga berencana meningk...\n",
       "3       C.Gerakan.bicara pertolongan pertama pada kece...\n",
       "4       Asuransi mana nih??\\n\\nPPATK tidak memberikan ...\n",
       "                              ...                        \n",
       "997     \"Jatuh cinta itu adalah sebuah kecelakaan yang...\n",
       "998     Pesan nasi goreng depan lapaknya ada kecelakaa...\n",
       "999     Hati-hati, Lalin di Tol Purbaleunyi Baros KM  ...\n",
       "1000    korang ada any idea tak macam mana nak bina sa...\n",
       "1001    \"klo takdirnya mati karna corona ya udh lah ma...\n",
       "Name: processed_text, Length: 1002, dtype: object"
      ]
     },
     "execution_count": 56,
     "metadata": {},
     "output_type": "execute_result"
    }
   ],
   "source": [
    "#remove number from processed text\n",
    "df_label_manual['processed_text']=df_label_manual['processed_text'].apply(lambda text: re.sub(r\"\\d+\", \"\", text))\n",
    "df_label_manual['processed_text']"
   ]
  },
  {
   "cell_type": "code",
   "execution_count": 57,
   "metadata": {},
   "outputs": [
    {
     "data": {
      "text/plain": [
       "0       Rekaman CCTV Kecelakaan Motor di PIK depan Tam...\n",
       "1       Tewaskan  Orang dalam  Kecelakaan Boss Boeing ...\n",
       "2       Anggota parlemen Taiwan juga berencana meningk...\n",
       "3       CGerakanbicara pertolongan pertama pada kecela...\n",
       "4       Asuransi mana nih\\n\\nPPATK tidak memberikan ri...\n",
       "                              ...                        \n",
       "997     Jatuh cinta itu adalah sebuah kecelakaan yang ...\n",
       "998     Pesan nasi goreng depan lapaknya ada kecelakaa...\n",
       "999     Hatihati Lalin di Tol Purbaleunyi Baros KM   K...\n",
       "1000    korang ada any idea tak macam mana nak bina sa...\n",
       "1001    klo takdirnya mati karna corona ya udh lah mat...\n",
       "Name: processed_text, Length: 1002, dtype: object"
      ]
     },
     "execution_count": 57,
     "metadata": {},
     "output_type": "execute_result"
    }
   ],
   "source": [
    "#remove punctuation\n",
    "import string\n",
    "df_label_manual['processed_text']=df_label_manual['processed_text'].apply(lambda text:text.translate(str.maketrans(\"\",\"\",string.punctuation)))\n",
    "df_label_manual['processed_text']"
   ]
  },
  {
   "cell_type": "code",
   "execution_count": 58,
   "metadata": {},
   "outputs": [],
   "source": [
    "# Stop Words Remove\n",
    "#import stoword remover class\n",
    "from Sastrawi.StopWordRemover.StopWordRemoverFactory import StopWordRemoverFactory\n",
    "\n",
    "#create stopword remover\n",
    "factory = StopWordRemoverFactory()\n",
    "stopwords = factory.get_stop_words() \n",
    "stopword = factory.create_stop_word_remover()\n",
    "df_label_manual['processed_text']=df_label_manual['processed_text'].apply(lambda sentence: stopword.remove(sentence))"
   ]
  },
  {
   "cell_type": "code",
   "execution_count": 59,
   "metadata": {},
   "outputs": [
    {
     "data": {
      "text/plain": [
       "0       Rekaman CCTV Kecelakaan Motor PIK Taman Grisen...\n",
       "1       Tewaskan  Orang  Kecelakaan Boss Boeing Minta ...\n",
       "2       Anggota parlemen Taiwan berencana meningkatkan...\n",
       "3       CGerakanbicara pertolongan kecelakaan PKBAKAT ...\n",
       "4       Asuransi nih\\n\\nPPATK rincian darimana partai ...\n",
       "                              ...                        \n",
       "997     Jatuh cinta kecelakaan indah alami berulang Ji...\n",
       "998     Pesan nasi goreng lapaknya kecelakaan\\nAuto ke...\n",
       "999     Hatihati Lalin Tol Purbaleunyi Baros KM   KM  ...\n",
       "1000    korang any idea nak bina produk mengelakkanmen...\n",
       "1001    klo takdirnya mati karna corona udh mati aja h...\n",
       "Name: processed_text, Length: 1002, dtype: object"
      ]
     },
     "execution_count": 59,
     "metadata": {},
     "output_type": "execute_result"
    }
   ],
   "source": [
    "df_label_manual['processed_text']"
   ]
  },
  {
   "cell_type": "code",
   "execution_count": 60,
   "metadata": {},
   "outputs": [
    {
     "data": {
      "text/plain": [
       "0       rekam cctv celaka motor pik taman grisenda vis...\n",
       "1       tewas orang celaka boss boeing minta maaf http...\n",
       "2       anggota parlemen taiwan rencana tingkat denda ...\n",
       "3       cgerakanbicara tolong celaka pkbakat httpstcoj...\n",
       "4       asuransi nih ppatk rincian darimana partai cal...\n",
       "                              ...                        \n",
       "997       jatuh cinta celaka indah alami ulang jika cinta\n",
       "998           pesan nasi goreng lapak celaka auto kenyang\n",
       "999     hatihati lalin tol purbaleunyi baros km km ara...\n",
       "1000    korang any idea nak bina produk mengelakkanmen...\n",
       "1001    klo takdir mati karna corona udh mati aja hmm ...\n",
       "Name: processed_text, Length: 1002, dtype: object"
      ]
     },
     "execution_count": 60,
     "metadata": {},
     "output_type": "execute_result"
    }
   ],
   "source": [
    "from Sastrawi.Stemmer.StemmerFactory import StemmerFactory\n",
    "factory2 = StemmerFactory()\n",
    "stemmer = factory2.create_stemmer()\n",
    "df_label_manual['processed_text']=df_label_manual['processed_text'].apply(lambda sentence:stemmer.stem(sentence))\n",
    "df_label_manual['processed_text']\n"
   ]
  },
  {
   "cell_type": "code",
   "execution_count": 61,
   "metadata": {},
   "outputs": [
    {
     "data": {
      "text/plain": [
       "0       [rekam, cctv, celaka, motor, pik, taman, grise...\n",
       "1       [tewas, orang, celaka, boss, boeing, minta, ma...\n",
       "2       [anggota, parlemen, taiwan, rencana, tingkat, ...\n",
       "3       [cgerakanbicara, tolong, celaka, pkbakat, http...\n",
       "4       [asuransi, nih, ppatk, rincian, darimana, part...\n",
       "                              ...                        \n",
       "997     [jatuh, cinta, celaka, indah, alami, ulang, ji...\n",
       "998     [pesan, nasi, goreng, lapak, celaka, auto, ken...\n",
       "999     [hatihati, lalin, tol, purbaleunyi, baros, km,...\n",
       "1000    [korang, any, idea, nak, bina, produk, mengela...\n",
       "1001    [klo, takdir, mati, karna, corona, udh, mati, ...\n",
       "Name: tokenize_text, Length: 1002, dtype: object"
      ]
     },
     "execution_count": 61,
     "metadata": {},
     "output_type": "execute_result"
    }
   ],
   "source": [
    "# tokenize text to word\n",
    "import nltk\n",
    "from nltk.tokenize import word_tokenize \n",
    "df_label_manual['tokenize_text']=df_label_manual['processed_text'].apply(lambda text: nltk.tokenize.word_tokenize(text))\n",
    "df_label_manual['tokenize_text']"
   ]
  },
  {
   "cell_type": "code",
   "execution_count": 62,
   "metadata": {},
   "outputs": [
    {
     "data": {
      "text/plain": [
       "<matplotlib.axes._subplots.AxesSubplot at 0x1728c38e2c8>"
      ]
     },
     "execution_count": 62,
     "metadata": {},
     "output_type": "execute_result"
    },
    {
     "data": {
      "image/png": "[encoded data removed]",
      "text/plain": [
       "<Figure size 432x288 with 1 Axes>"
      ]
     },
     "metadata": {
      "needs_background": "light"
     },
     "output_type": "display_data"
    }
   ],
   "source": [
    "sns.countplot('is_accident',data=df_label_manual)"
   ]
  },
  {
   "cell_type": "code",
   "execution_count": 65,
   "metadata": {},
   "outputs": [],
   "source": [
    "from sklearn.feature_extraction.text import CountVectorizer\n",
    "bow_transformer = CountVectorizer().fit(df_label_manual['processed_text'])"
   ]
  },
  {
   "cell_type": "code",
   "execution_count": 66,
   "metadata": {},
   "outputs": [
    {
     "name": "stdout",
     "output_type": "stream",
     "text": [
      "4812\n"
     ]
    }
   ],
   "source": [
    "# Print total number of vocab words\n",
    "print(len(bow_transformer.vocabulary_))"
   ]
  },
  {
   "cell_type": "code",
   "execution_count": 70,
   "metadata": {},
   "outputs": [],
   "source": [
    "# transform tweets bag of words\n",
    "tweets_bow = bow_transformer.transform(df_label_manual['processed_text'])"
   ]
  },
  {
   "cell_type": "code",
   "execution_count": 71,
   "metadata": {},
   "outputs": [
    {
     "name": "stdout",
     "output_type": "stream",
     "text": [
      "Shape of Sparse Matrix:  (1002, 4812)\n",
      "Amount of Non-Zero occurences:  13730\n"
     ]
    }
   ],
   "source": [
    "print('Shape of Sparse Matrix: ', tweets_bow.shape)\n",
    "print('Amount of Non-Zero occurences: ', tweets_bow.nnz)"
   ]
  },
  {
   "cell_type": "code",
   "execution_count": 73,
   "metadata": {},
   "outputs": [],
   "source": [
    "#transform BOW_matrix to TF_IDF Matrix\n",
    "\n",
    "from sklearn.feature_extraction.text import TfidfTransformer\n",
    "\n",
    "tfidf_transformer = TfidfTransformer().fit(tweets_bow)\n",
    "\n",
    "tweets_tfidf = tfidf_transformer.transform(tweets_bow)"
   ]
  },
  {
   "cell_type": "code",
   "execution_count": 74,
   "metadata": {},
   "outputs": [],
   "source": [
    "#train the model using naive bayes classifier\n",
    "from sklearn.naive_bayes import MultinomialNB\n",
    "accident_detect_model = MultinomialNB().fit(tweets_tfidf, df_label_manual['is_accident'])"
   ]
  },
  {
   "cell_type": "code",
   "execution_count": 75,
   "metadata": {},
   "outputs": [
    {
     "name": "stdout",
     "output_type": "stream",
     "text": [
      "[1 1 0 ... 1 0 0]\n"
     ]
    }
   ],
   "source": [
    "all_predictions = accident_detect_model.predict(tweets_tfidf)\n",
    "print(all_predictions)"
   ]
  },
  {
   "cell_type": "code",
   "execution_count": 77,
   "metadata": {},
   "outputs": [
    {
     "name": "stdout",
     "output_type": "stream",
     "text": [
      "              precision    recall  f1-score   support\n",
      "\n",
      "           0       0.97      0.99      0.98       642\n",
      "           1       0.98      0.94      0.96       360\n",
      "\n",
      "    accuracy                           0.97      1002\n",
      "   macro avg       0.97      0.97      0.97      1002\n",
      "weighted avg       0.97      0.97      0.97      1002\n",
      "\n",
      "[[635   7]\n",
      " [ 20 340]]\n"
     ]
    }
   ],
   "source": [
    "from sklearn.metrics import classification_report, confusion_matrix\n",
    "print (classification_report(df_label_manual['is_accident'], all_predictions))\n",
    "print (confusion_matrix(df_label_manual['is_accident'], all_predictions))"
   ]
  },
  {
   "cell_type": "code",
   "execution_count": null,
   "metadata": {},
   "outputs": [],
   "source": []
  }
 ],
 "metadata": {
  "kernelspec": {
   "display_name": "Python 3",
   "language": "python",
   "name": "python3"
  },
  "language_info": {
   "codemirror_mode": {
    "name": "ipython",
    "version": 3
   },
   "file_extension": ".py",
   "mimetype": "text/x-python",
   "name": "python",
   "nbconvert_exporter": "python",
   "pygments_lexer": "ipython3",
   "version": "3.7.6"
  }
 },
 "nbformat": 4,
 "nbformat_minor": 4
}
